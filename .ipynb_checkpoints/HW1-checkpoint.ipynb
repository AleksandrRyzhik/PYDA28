{
 "cells": [
  {
   "cell_type": "markdown",
   "metadata": {},
   "source": [
    "# Задание 1"
   ]
  },
  {
   "cell_type": "code",
   "execution_count": 1,
   "metadata": {},
   "outputs": [
    {
     "name": "stdout",
     "output_type": "stream",
     "text": [
      "ithcnm\n",
      "i\n",
      "Фраза 1 длинее фразы 2\n"
     ]
    }
   ],
   "source": [
    "\n",
    "phrase_1 = input()\n",
    "phrase_2 = input()\n",
    "if len(phrase_1) > len(phrase_2):\n",
    "    print('Фраза 1 длинее фразы 2')\n",
    "elif len(phrase_1) == len(phrase_2):\n",
    "    print('Фразы равной длины')\n",
    "else:\n",
    "    print('Фраза 1 не длиннее фразы 2')"
   ]
  },
  {
   "cell_type": "markdown",
   "metadata": {},
   "source": [
    "# Задание 2"
   ]
  },
  {
   "cell_type": "code",
   "execution_count": 6,
   "metadata": {},
   "outputs": [
    {
     "name": "stdout",
     "output_type": "stream",
     "text": [
      "2019\n",
      "Обычный год\n"
     ]
    }
   ],
   "source": [
    "year = int(input())\n",
    "if year % 4 == 0:\n",
    "    print('Високосный год')\n",
    "else:\n",
    "    print('Обычный год')"
   ]
  },
  {
   "cell_type": "markdown",
   "metadata": {},
   "source": [
    "# Задание 3"
   ]
  },
  {
   "cell_type": "code",
   "execution_count": 8,
   "metadata": {},
   "outputs": [
    {
     "name": "stdout",
     "output_type": "stream",
     "text": [
      "введите месяц (с маленькой буквы): октябрь\n",
      "введите число: 19\n",
      "Весы\n"
     ]
    }
   ],
   "source": [
    "месяц=input('введите месяц (с маленькой буквы): ')\n",
    "число=int(input('введите число: '))\n",
    "if (месяц =='март' and число>=21) or (месяц =='апрель' and число<=20):\n",
    "    print('Овен')\n",
    "elif (месяц =='апрель' and число>=21) or (месяц =='май' and число<=20):\n",
    "    print('Телец')\n",
    "elif (месяц =='май' and число>=21) or (месяц =='июнь' and число<=21):\n",
    "    print('Близнецы')\n",
    "elif (месяц =='июнь' and число>=22) or (месяц =='июль' and число<=22):\n",
    "    print('Рак')\n",
    "elif (месяц =='июль' and число>=23) or (месяц =='август' and число<=23):\n",
    "    print('Лев')\n",
    "elif (месяц =='август' and число>=24) or (месяц =='сентябрь' and число<=23):\n",
    "    print('Дева')\n",
    "elif (месяц =='сентябрь' and число>=24) or (месяц =='октябрь' and число<=23):\n",
    "    print('Весы')\n",
    "elif (месяц =='октябрь' and число>=24) or (месяц =='ноябрь' and число<=22):\n",
    "    print('Скорпион')\n",
    "elif (месяц =='ноябрь' and число>=23) or (месяц =='декабрь' and число<=21):\n",
    "    print('Стрелец')\n",
    "elif (месяц =='декабрь' and число>=22) or (месяц =='январь' and число<=20):\n",
    "    print('Козерог')\n",
    "elif (месяц =='январь' and число>=21) or (месяц =='февраль' and число<=18):\n",
    "    print('Водолей')\n",
    "else:\n",
    "    print('Рыбы')"
   ]
  },
  {
   "cell_type": "markdown",
   "metadata": {},
   "source": [
    "# Задание 4"
   ]
  },
  {
   "cell_type": "code",
   "execution_count": 19,
   "metadata": {},
   "outputs": [
    {
     "name": "stdout",
     "output_type": "stream",
     "text": [
      "введите ширину: 45\n",
      "введите длину: 205\n",
      "введите высоту: 45\n",
      "Упаковка для лыж\n"
     ]
    }
   ],
   "source": [
    "width = int(input ('введите ширину: '))\n",
    "length = int(input ('введите длину: '))\n",
    "height = int(input ('введите высоту: '))\n",
    "if width <= 15 and length <= 15 and height <= 15:\n",
    "    print('Коробка №1')\n",
    "elif length > 200:\n",
    "    print('Упаковка для лыж')\n",
    "elif (width > 15 and width < 50) or (length > 15 and length < 50) \\\n",
    "or (height > 15 and height < 50):\n",
    "    print('Коробка №2')\n",
    "else:\n",
    "    print('Стандартная коробка №3')"
   ]
  }
 ],
 "metadata": {
  "kernelspec": {
   "display_name": "Python 3",
   "language": "python",
   "name": "python3"
  },
  "language_info": {
   "codemirror_mode": {
    "name": "ipython",
    "version": 3
   },
   "file_extension": ".py",
   "mimetype": "text/x-python",
   "name": "python",
   "nbconvert_exporter": "python",
   "pygments_lexer": "ipython3",
   "version": "3.8.5"
  }
 },
 "nbformat": 4,
 "nbformat_minor": 4
}
